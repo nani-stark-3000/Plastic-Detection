{
 "cells": [
  {
   "attachments": {},
   "cell_type": "markdown",
   "metadata": {},
   "source": [
    "Rectangle frames"
   ]
  },
  {
   "cell_type": "code",
   "execution_count": 1,
   "metadata": {},
   "outputs": [],
   "source": [
    "import cv2\n",
    "import numpy as np\n",
    "from joblib import load\n",
    "\n",
    "# Load the SVM model from the pickle file\n",
    "model = load('PlasticDetection.pkl')\n",
    "\n",
    "# Define the boundaries of the plastic bottle (in RGB color space)\n",
    "lower = np.array([100, 100, 100])\n",
    "upper = np.array([255, 255, 255])\n",
    "\n",
    "# Create a VideoCapture object to read from the webcam\n",
    "cap = cv2.VideoCapture(0)\n",
    "\n",
    "while True:\n",
    "    # Capture a frame from the webcam\n",
    "    ret, frame = cap.read()\n",
    "    \n",
    "    # Convert the frame from BGR to RGB color space\n",
    "    frame_rgb = cv2.cvtColor(frame, cv2.COLOR_BGR2RGB)\n",
    "    \n",
    "    # Apply the color threshold to extract the plastic bottle regions\n",
    "    mask = cv2.inRange(frame_rgb, lower, upper)\n",
    "    contours, hierarchy = cv2.findContours(mask, cv2.RETR_EXTERNAL, cv2.CHAIN_APPROX_SIMPLE)\n",
    "    \n",
    "    # Make predictions for each detected region\n",
    "    for contour in contours:\n",
    "        (x, y, w, h) = cv2.boundingRect(contour)\n",
    "        roi = frame[y:y+h, x:x+w]\n",
    "        roi_resized = cv2.resize(roi, (100, 100))\n",
    "        roi_flattened = roi_resized.reshape(1, -1).astype('float32') / 255\n",
    "        prediction = model.predict(roi_flattened)\n",
    "        \n",
    "        # Draw a rectangle around the detected plastic bottle and label it as \"Plastic\" or \"Non-Plastic\"\n",
    "        if prediction == 'Plastic':\n",
    "            cv2.rectangle(frame, (x, y), (x+w, y+h), (0, 255, 0), 2)\n",
    "            cv2.putText(frame, 'Plastic', (x, y-10), cv2.FONT_HERSHEY_SIMPLEX, 0.9, (0, 255, 0), 2)\n",
    "        \n",
    "    \n",
    "    # Display the frame with the detected regions and predictions\n",
    "    cv2.imshow('Plastic Detection', frame)\n",
    "    \n",
    "    # Exit the program if the user presses the 'q' key\n",
    "    if cv2.waitKey(1) == ord('q'):\n",
    "        break\n",
    "\n",
    "# Release the VideoCapture object and close all windows\n",
    "cap.release()\n",
    "cv2.destroyAllWindows()\n"
   ]
  },
  {
   "attachments": {},
   "cell_type": "markdown",
   "metadata": {},
   "source": [
    "Single Snap"
   ]
  },
  {
   "cell_type": "code",
   "execution_count": 11,
   "metadata": {},
   "outputs": [
    {
     "name": "stdout",
     "output_type": "stream",
     "text": [
      "Prediction: ['Non Plastic']\n"
     ]
    }
   ],
   "source": [
    "import cv2\n",
    "import joblib\n",
    "\n",
    "# Load the saved SVM model\n",
    "model = joblib.load('PlasticDetection.pkl')\n",
    "\n",
    "# Set the webcam source\n",
    "cap = cv2.VideoCapture(0)\n",
    "\n",
    "# Capture an image from the webcam\n",
    "ret, frame = cap.read()\n",
    "\n",
    "# Resize the image to 100x100\n",
    "resized_frame = cv2.resize(frame, (100, 100))\n",
    "\n",
    "# Flatten the image and normalize the pixel values\n",
    "flattened_frame = resized_frame.reshape(1, -1).astype('float32') / 255\n",
    "\n",
    "# Pass the image through the model for prediction\n",
    "prediction = model.predict(flattened_frame)\n",
    "\n",
    "# Draw a bounding box around the detected plastic bottle\n",
    "if prediction == 'plastic':\n",
    "    cv2.rectangle(frame, (0, 0), (frame.shape[1], frame.shape[0]), (0, 255, 0), thickness=2)\n",
    "\n",
    "# Display the image and the predicted label\n",
    "cv2.imwrite('test.jpg',frame)\n",
    "image = cv2.imread(\"test.jpg\")\n",
    "cv2.imshow(str(prediction), image)\n",
    "print('Prediction:', prediction)\n",
    "cv2.waitKey(0)\n",
    "\n",
    "# Release the webcam source and close the window\n",
    "cap.release()\n",
    "cv2.destroyAllWindows()\n"
   ]
  },
  {
   "cell_type": "code",
   "execution_count": 12,
   "metadata": {},
   "outputs": [],
   "source": [
    "import cv2\n",
    "\n",
    "# Set the webcam source\n",
    "cap = cv2.VideoCapture(1)\n",
    "model = joblib.load('PlasticDetection.pkl')\n",
    "\n",
    "# Capture an image from the webcam\n",
    "ret, frame = cap.read()\n",
    "\n",
    "# Release the webcam source\n",
    "cap.release()\n",
    "\n",
    "# Save the captured image to a file\n",
    "cv2.imwrite('captured_image.jpg', frame)\n",
    "\n",
    "# Display the captured image\n",
    "cv2.imshow('image', frame)\n",
    "cv2.waitKey(0)\n",
    "cv2.destroyAllWindows()\n"
   ]
  },
  {
   "cell_type": "code",
   "execution_count": null,
   "metadata": {},
   "outputs": [],
   "source": []
  }
 ],
 "metadata": {
  "kernelspec": {
   "display_name": "base",
   "language": "python",
   "name": "python3"
  },
  "language_info": {
   "codemirror_mode": {
    "name": "ipython",
    "version": 3
   },
   "file_extension": ".py",
   "mimetype": "text/x-python",
   "name": "python",
   "nbconvert_exporter": "python",
   "pygments_lexer": "ipython3",
   "version": "3.9.13"
  },
  "orig_nbformat": 4
 },
 "nbformat": 4,
 "nbformat_minor": 2
}
